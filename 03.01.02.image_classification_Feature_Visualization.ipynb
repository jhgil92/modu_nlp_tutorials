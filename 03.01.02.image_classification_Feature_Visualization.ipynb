{
 "cells": [
  {
   "cell_type": "markdown",
   "metadata": {},
   "source": [
    "# CNN Feature map Visualization  \n",
    "\n",
    "지난 실습때 훈련시킨 CNN을 통해 Feature의 의미를 보다 시각적으로 이해해 보고자 합니다.\n",
    "\n",
    "(참고)\n",
    "https://github.com/gilbutITbook/006975/blob/master/5.4-visualizing-what-convnets-learn.ipynb"
   ]
  },
  {
   "cell_type": "code",
   "execution_count": 1,
   "metadata": {},
   "outputs": [
    {
     "name": "stderr",
     "output_type": "stream",
     "text": [
      "Using TensorFlow backend.\n"
     ]
    }
   ],
   "source": [
    "import keras\n",
    "import json\n",
    "import numpy as np\n",
    "from keras import models\n",
    "from keras.models import model_from_json\n",
    "from keras.datasets import mnist\n",
    "from keras.utils import to_categorical\n",
    "from keras.optimizers import RMSprop\n",
    "\n",
    "import matplotlib.pyplot as plt #for plotting\n",
    "%matplotlib inline"
   ]
  },
  {
   "cell_type": "markdown",
   "metadata": {},
   "source": [
    "이전 실습에서 저장한 model의 weight를 로딩해 봅니다."
   ]
  },
  {
   "cell_type": "code",
   "execution_count": 2,
   "metadata": {},
   "outputs": [
    {
     "name": "stdout",
     "output_type": "stream",
     "text": [
      "WARNING:tensorflow:From C:\\Users\\uhmpp\\Anaconda3\\envs\\py36\\lib\\site-packages\\tensorflow\\python\\framework\\op_def_library.py:263: colocate_with (from tensorflow.python.framework.ops) is deprecated and will be removed in a future version.\n",
      "Instructions for updating:\n",
      "Colocations handled automatically by placer.\n",
      "WARNING:tensorflow:From C:\\Users\\uhmpp\\Anaconda3\\envs\\py36\\lib\\site-packages\\keras\\backend\\tensorflow_backend.py:3445: calling dropout (from tensorflow.python.ops.nn_ops) with keep_prob is deprecated and will be removed in a future version.\n",
      "Instructions for updating:\n",
      "Please use `rate` instead of `keep_prob`. Rate should be set to `rate = 1 - keep_prob`.\n",
      "_________________________________________________________________\n",
      "Layer (type)                 Output Shape              Param #   \n",
      "=================================================================\n",
      "conv2d_1 (Conv2D)            (None, 28, 28, 32)        832       \n",
      "_________________________________________________________________\n",
      "conv2d_2 (Conv2D)            (None, 28, 28, 32)        25632     \n",
      "_________________________________________________________________\n",
      "max_pooling2d_1 (MaxPooling2 (None, 14, 14, 32)        0         \n",
      "_________________________________________________________________\n",
      "dropout_1 (Dropout)          (None, 14, 14, 32)        0         \n",
      "_________________________________________________________________\n",
      "conv2d_3 (Conv2D)            (None, 14, 14, 64)        18496     \n",
      "_________________________________________________________________\n",
      "conv2d_4 (Conv2D)            (None, 14, 14, 64)        36928     \n",
      "_________________________________________________________________\n",
      "max_pooling2d_2 (MaxPooling2 (None, 7, 7, 64)          0         \n",
      "_________________________________________________________________\n",
      "dropout_2 (Dropout)          (None, 7, 7, 64)          0         \n",
      "_________________________________________________________________\n",
      "flatten_1 (Flatten)          (None, 3136)              0         \n",
      "_________________________________________________________________\n",
      "dense_1 (Dense)              (None, 256)               803072    \n",
      "_________________________________________________________________\n",
      "dropout_3 (Dropout)          (None, 256)               0         \n",
      "_________________________________________________________________\n",
      "dense_2 (Dense)              (None, 10)                2570      \n",
      "_________________________________________________________________\n",
      "activation_1 (Activation)    (None, 10)                0         \n",
      "=================================================================\n",
      "Total params: 887,530\n",
      "Trainable params: 887,530\n",
      "Non-trainable params: 0\n",
      "_________________________________________________________________\n"
     ]
    }
   ],
   "source": [
    "with open('checkpoints/cnn_model.json','r') as f:\n",
    "    model_json = json.load(f)\n",
    "#     print(model_json)\n",
    "\n",
    "model = model_from_json(str(model_json))\n",
    "model.load_weights('checkpoints/cnn_model.h5')\n",
    "model.summary()  # 기억을 되살리기 위해서 모델 구조를 출력합니다\n",
    "# Define the optimizer\n",
    "optimizer = RMSprop(lr=0.001, rho=0.9, epsilon=1e-08, decay=0.0)\n",
    "# Compile the model\n",
    "model.compile(optimizer = optimizer , loss = \"categorical_crossentropy\", metrics=[\"accuracy\"])"
   ]
  },
  {
   "cell_type": "code",
   "execution_count": 3,
   "metadata": {},
   "outputs": [],
   "source": [
    "(x_train, y_train), (x_test, y_test) = mnist.load_data()"
   ]
  },
  {
   "cell_type": "code",
   "execution_count": 4,
   "metadata": {},
   "outputs": [
    {
     "name": "stdout",
     "output_type": "stream",
     "text": [
      "10000/10000 [==============================] - 2s 211us/step\n"
     ]
    },
    {
     "data": {
      "text/plain": [
       "0.9937"
      ]
     },
     "execution_count": 4,
     "metadata": {},
     "output_type": "execute_result"
    }
   ],
   "source": [
    "input_shape = (x_train.shape[1], x_train.shape[2], 1)\n",
    "x_train_shape = (-1,) + input_shape\n",
    "x_test = x_test.reshape(x_train_shape)\n",
    "x_test = x_test.astype('float32') / 255\n",
    "y_test = to_categorical(y_test, num_classes = 10)\n",
    "test_loss, test_acc = model.evaluate(x_test, y_test)\n",
    "test_acc"
   ]
  },
  {
   "cell_type": "markdown",
   "metadata": {},
   "source": [
    "학습한 모델이 feature를 어떻게 추출해 내는지 시각적으로 살펴보겠습니다.  \n",
    "이를 위해, CNN 모델이 0과 1 이미지를 처리할 때의 중간층(activation map)을 layer별로 시각화해서 비교해 보는 기법을 사용해 보고자 합니다."
   ]
  },
  {
   "cell_type": "code",
   "execution_count": 5,
   "metadata": {},
   "outputs": [],
   "source": [
    "# 데이터를 다시 로딩합니다.\n",
    "(x_train, y_train), (x_test, y_test) = mnist.load_data()"
   ]
  },
  {
   "cell_type": "code",
   "execution_count": 6,
   "metadata": {},
   "outputs": [
    {
     "data": {
      "text/plain": [
       "array([7, 2, 1, ..., 4, 5, 6], dtype=uint8)"
      ]
     },
     "execution_count": 6,
     "metadata": {},
     "output_type": "execute_result"
    }
   ],
   "source": [
    "y_test"
   ]
  },
  {
   "cell_type": "code",
   "execution_count": 7,
   "metadata": {},
   "outputs": [
    {
     "data": {
      "text/plain": [
       "[3, 10, 13, 25, 28]"
      ]
     },
     "execution_count": 7,
     "metadata": {},
     "output_type": "execute_result"
    }
   ],
   "source": [
    "# label이 0인 이미지를 찾아보자.\n",
    "y_test_0_idx = [idx for idx, val in enumerate(y_test) if val == 0]\n",
    "y_test_0_idx[0:5]"
   ]
  },
  {
   "cell_type": "code",
   "execution_count": 8,
   "metadata": {},
   "outputs": [
    {
     "data": {
      "text/plain": [
       "[2, 5, 14, 29, 31]"
      ]
     },
     "execution_count": 8,
     "metadata": {},
     "output_type": "execute_result"
    }
   ],
   "source": [
    "# label이 1인 이미지를 찾아보자.\n",
    "y_test_1_idx = [idx for idx, val in enumerate(y_test) if val == 1]\n",
    "y_test_1_idx[0:5]"
   ]
  },
  {
   "cell_type": "code",
   "execution_count": 9,
   "metadata": {},
   "outputs": [
    {
     "data": {
      "text/plain": [
       "<matplotlib.image.AxesImage at 0x23bbf8686d8>"
      ]
     },
     "execution_count": 9,
     "metadata": {},
     "output_type": "execute_result"
    },
    {
     "data": {
      "image/png": "[encoded data removed]",
      "text/plain": [
       "<Figure size 2016x2016 with 2 Axes>"
      ]
     },
     "metadata": {
      "needs_background": "light"
     },
     "output_type": "display_data"
    }
   ],
   "source": [
    "plt.figure(figsize=(28,28))\n",
    "\n",
    "plt.subplot(1, 2, 1)\n",
    "plt.title(y_test[y_test_0_idx[0]], fontsize=100)\n",
    "plt.imshow(x_test[y_test_0_idx[0]])\n",
    "\n",
    "plt.subplot(1, 2, 2)\n",
    "plt.title(y_test[y_test_1_idx[0]], fontsize=100)\n",
    "plt.imshow(x_test[y_test_1_idx[0]])"
   ]
  },
  {
   "cell_type": "code",
   "execution_count": 10,
   "metadata": {},
   "outputs": [
    {
     "data": {
      "text/plain": [
       "(2, 28, 28, 1)"
      ]
     },
     "execution_count": 10,
     "metadata": {},
     "output_type": "execute_result"
    }
   ],
   "source": [
    "# 위 두 이미지를 합쳐서 모델에 한번에 입력해 보자.\n",
    "x_test_input = np.stack((x_test[y_test_0_idx[0]], x_test[y_test_1_idx[0]]))\n",
    "x_test_input = np.expand_dims(x_test_input, axis=3)\n",
    "x_test_input.shape"
   ]
  },
  {
   "cell_type": "code",
   "execution_count": 11,
   "metadata": {},
   "outputs": [],
   "source": [
    "x_test_input = x_test_input.astype('float32') / 255"
   ]
  },
  {
   "cell_type": "code",
   "execution_count": 12,
   "metadata": {},
   "outputs": [
    {
     "data": {
      "text/plain": [
       "[1,\n",
       " 21,\n",
       " 34,\n",
       " 37,\n",
       " 51,\n",
       " 56,\n",
       " 63,\n",
       " 68,\n",
       " 69,\n",
       " 75,\n",
       " 81,\n",
       " 88,\n",
       " 95,\n",
       " 108,\n",
       " 114,\n",
       " 118,\n",
       " 119,\n",
       " 121,\n",
       " 156,\n",
       " 169,\n",
       " 192,\n",
       " 206,\n",
       " 209,\n",
       " 210,\n",
       " 216,\n",
       " 229,\n",
       " 232,\n",
       " 234,\n",
       " 246,\n",
       " 249,\n",
       " 260,\n",
       " 283,\n",
       " 293,\n",
       " 296,\n",
       " 303,\n",
       " 320,\n",
       " 326,\n",
       " 359,\n",
       " 399,\n",
       " 427,\n",
       " 429,\n",
       " 435,\n",
       " 440,\n",
       " 451,\n",
       " 453,\n",
       " 458,\n",
       " 462,\n",
       " 464,\n",
       " 473,\n",
       " 489,\n",
       " 519,\n",
       " 524,\n",
       " 526,\n",
       " 527,\n",
       " 542,\n",
       " 577,\n",
       " 582,\n",
       " 596,\n",
       " 603,\n",
       " 612,\n",
       " 633,\n",
       " 639,\n",
       " 656,\n",
       " 662,\n",
       " 666,\n",
       " 667,\n",
       " 668,\n",
       " 669,\n",
       " 689,\n",
       " 702,\n",
       " 709,\n",
       " 712,\n",
       " 733,\n",
       " 743,\n",
       " 745,\n",
       " 776,\n",
       " 781,\n",
       " 787,\n",
       " 790,\n",
       " 818,\n",
       " 825,\n",
       " 849,\n",
       " 859,\n",
       " 860,\n",
       " 869,\n",
       " 872,\n",
       " 889,\n",
       " 903,\n",
       " 927,\n",
       " 943,\n",
       " 949,\n",
       " 952,\n",
       " 957,\n",
       " 965,\n",
       " 979,\n",
       " 984,\n",
       " 997,\n",
       " 1000,\n",
       " 1015,\n",
       " 1018,\n",
       " 1028,\n",
       " 1029,\n",
       " 1040,\n",
       " 1046,\n",
       " 1049,\n",
       " 1076,\n",
       " 1078,\n",
       " 1090,\n",
       " 1093,\n",
       " 1102,\n",
       " 1107,\n",
       " 1128,\n",
       " 1137,\n",
       " 1152,\n",
       " 1168,\n",
       " 1179,\n",
       " 1195,\n",
       " 1209,\n",
       " 1268,\n",
       " 1304,\n",
       " 1310,\n",
       " 1346,\n",
       " 1349,\n",
       " 1359,\n",
       " 1363,\n",
       " 1367,\n",
       " 1368,\n",
       " 1371,\n",
       " 1372,\n",
       " 1377,\n",
       " 1386,\n",
       " 1387,\n",
       " 1403,\n",
       " 1423,\n",
       " 1443,\n",
       " 1454,\n",
       " 1471,\n",
       " 1479,\n",
       " 1489,\n",
       " 1495,\n",
       " 1501,\n",
       " 1502,\n",
       " 1512,\n",
       " 1517,\n",
       " 1530,\n",
       " 1532,\n",
       " 1571,\n",
       " 1578,\n",
       " 1590,\n",
       " 1596,\n",
       " 1600,\n",
       " 1605,\n",
       " 1606,\n",
       " 1625,\n",
       " 1626,\n",
       " 1645,\n",
       " 1664,\n",
       " 1678,\n",
       " 1682,\n",
       " 1701,\n",
       " 1709,\n",
       " 1712,\n",
       " 1723,\n",
       " 1725,\n",
       " 1729,\n",
       " 1742,\n",
       " 1769,\n",
       " 1771,\n",
       " 1775,\n",
       " 1796,\n",
       " 1797,\n",
       " 1798,\n",
       " 1819,\n",
       " 1828,\n",
       " 1837,\n",
       " 1857,\n",
       " 1868,\n",
       " 1876,\n",
       " 1877,\n",
       " 1897,\n",
       " 1904,\n",
       " 1907,\n",
       " 1916,\n",
       " 1926,\n",
       " 1927,\n",
       " 1930,\n",
       " 1956,\n",
       " 1963,\n",
       " 1969,\n",
       " 1995,\n",
       " 1999,\n",
       " 2009,\n",
       " 2051,\n",
       " 2058,\n",
       " 2066,\n",
       " 2079,\n",
       " 2081,\n",
       " 2082,\n",
       " 2084,\n",
       " 2100,\n",
       " 2101,\n",
       " 2112,\n",
       " 2121,\n",
       " 2144,\n",
       " 2147,\n",
       " 2160,\n",
       " 2191,\n",
       " 2192,\n",
       " 2195,\n",
       " 2218,\n",
       " 2245,\n",
       " 2253,\n",
       " 2257,\n",
       " 2269,\n",
       " 2278,\n",
       " 2298,\n",
       " 2310,\n",
       " 2325,\n",
       " 2327,\n",
       " 2333,\n",
       " 2340,\n",
       " 2352,\n",
       " 2353,\n",
       " 2373,\n",
       " 2396,\n",
       " 2403,\n",
       " 2404,\n",
       " 2411,\n",
       " 2435,\n",
       " 2436,\n",
       " 2440,\n",
       " 2473,\n",
       " 2483,\n",
       " 2493,\n",
       " 2500,\n",
       " 2525,\n",
       " 2526,\n",
       " 2528,\n",
       " 2532,\n",
       " 2538,\n",
       " 2539,\n",
       " 2557,\n",
       " 2561,\n",
       " 2581,\n",
       " 2582,\n",
       " 2584,\n",
       " 2586,\n",
       " 2597,\n",
       " 2606,\n",
       " 2615,\n",
       " 2617,\n",
       " 2621,\n",
       " 2624,\n",
       " 2629,\n",
       " 2642,\n",
       " 2709,\n",
       " 2718,\n",
       " 2729,\n",
       " 2736,\n",
       " 2745,\n",
       " 2746,\n",
       " 2765,\n",
       " 2770,\n",
       " 2782,\n",
       " 2806,\n",
       " 2817,\n",
       " 2826,\n",
       " 2839,\n",
       " 2854,\n",
       " 2864,\n",
       " 2873,\n",
       " 2882,\n",
       " 2890,\n",
       " 2897,\n",
       " 2899,\n",
       " 2904,\n",
       " 2914,\n",
       " 2919,\n",
       " 2935,\n",
       " 2944,\n",
       " 2952,\n",
       " 2955,\n",
       " 2974,\n",
       " 2975,\n",
       " 2996,\n",
       " 3001,\n",
       " 3012,\n",
       " 3015,\n",
       " 3016,\n",
       " 3021,\n",
       " 3024,\n",
       " 3035,\n",
       " 3049,\n",
       " 3067,\n",
       " 3106,\n",
       " 3107,\n",
       " 3128,\n",
       " 3131,\n",
       " 3135,\n",
       " 3143,\n",
       " 3160,\n",
       " 3175,\n",
       " 3195,\n",
       " 3198,\n",
       " 3213,\n",
       " 3231,\n",
       " 3241,\n",
       " 3247,\n",
       " 3248,\n",
       " 3259,\n",
       " 3262,\n",
       " 3269,\n",
       " 3286,\n",
       " 3309,\n",
       " 3328,\n",
       " 3337,\n",
       " 3367,\n",
       " 3369,\n",
       " 3376,\n",
       " 3377,\n",
       " 3391,\n",
       " 3396,\n",
       " 3409,\n",
       " 3410,\n",
       " 3429,\n",
       " 3434,\n",
       " 3441,\n",
       " 3443,\n",
       " 3461,\n",
       " 3479,\n",
       " 3490,\n",
       " 3492,\n",
       " 3514,\n",
       " 3516,\n",
       " 3529,\n",
       " 3534,\n",
       " 3541,\n",
       " 3562,\n",
       " 3565,\n",
       " 3568,\n",
       " 3585,\n",
       " 3590,\n",
       " 3603,\n",
       " 3610,\n",
       " 3612,\n",
       " 3622,\n",
       " 3632,\n",
       " 3661,\n",
       " 3667,\n",
       " 3673,\n",
       " 3677,\n",
       " 3691,\n",
       " 3693,\n",
       " 3698,\n",
       " 3702,\n",
       " 3709,\n",
       " 3715,\n",
       " 3720,\n",
       " 3734,\n",
       " 3743,\n",
       " 3776,\n",
       " 3777,\n",
       " 3778,\n",
       " 3806,\n",
       " 3809,\n",
       " 3829,\n",
       " 3849,\n",
       " 3876,\n",
       " 3881,\n",
       " 3882,\n",
       " 3884,\n",
       " 3888,\n",
       " 3896,\n",
       " 3906,\n",
       " 3929,\n",
       " 3937,\n",
       " 3943,\n",
       " 3953,\n",
       " 3964,\n",
       " 4002,\n",
       " 4008,\n",
       " 4009,\n",
       " 4023,\n",
       " 4027,\n",
       " 4044,\n",
       " 4047,\n",
       " 4067,\n",
       " 4082,\n",
       " 4106,\n",
       " 4108,\n",
       " 4115,\n",
       " 4123,\n",
       " 4142,\n",
       " 4145,\n",
       " 4159,\n",
       " 4181,\n",
       " 4201,\n",
       " 4203,\n",
       " 4216,\n",
       " 4218,\n",
       " 4220,\n",
       " 4239,\n",
       " 4245,\n",
       " 4265,\n",
       " 4270,\n",
       " 4279,\n",
       " 4284,\n",
       " 4288,\n",
       " 4289,\n",
       " 4310,\n",
       " 4316,\n",
       " 4321,\n",
       " 4325,\n",
       " 4340,\n",
       " 4343,\n",
       " 4344,\n",
       " 4347,\n",
       " 4356,\n",
       " 4374,\n",
       " 4389,\n",
       " 4415,\n",
       " 4444,\n",
       " 4453,\n",
       " 4455,\n",
       " 4465,\n",
       " 4485,\n",
       " 4488,\n",
       " 4496,\n",
       " 4500,\n",
       " 4505,\n",
       " 4527,\n",
       " 4532,\n",
       " 4535,\n",
       " 4539,\n",
       " 4556,\n",
       " 4563,\n",
       " 4565,\n",
       " 4588,\n",
       " 4597,\n",
       " 4607,\n",
       " 4608,\n",
       " 4624,\n",
       " 4629,\n",
       " 4642,\n",
       " 4653,\n",
       " 4655,\n",
       " 4656,\n",
       " 4682,\n",
       " 4686,\n",
       " 4688,\n",
       " 4713,\n",
       " 4718,\n",
       " 4729,\n",
       " 4738,\n",
       " 4744,\n",
       " 4748,\n",
       " 4749,\n",
       " 4756,\n",
       " 4773,\n",
       " 4776,\n",
       " 4793,\n",
       " 4804,\n",
       " 4849,\n",
       " 4852,\n",
       " 4854,\n",
       " 4855,\n",
       " 4870,\n",
       " 4889,\n",
       " 4892,\n",
       " 4906,\n",
       " 4911,\n",
       " 4918,\n",
       " 4926,\n",
       " 4931,\n",
       " 4951,\n",
       " 4962,\n",
       " 4981,\n",
       " 4985,\n",
       " 4994,\n",
       " 5007,\n",
       " 5010,\n",
       " 5015,\n",
       " 5019,\n",
       " 5048,\n",
       " 5052,\n",
       " 5053,\n",
       " 5072,\n",
       " 5074,\n",
       " 5082,\n",
       " 5083,\n",
       " 5096,\n",
       " 5108,\n",
       " 5115,\n",
       " 5120,\n",
       " 5131,\n",
       " 5133,\n",
       " 5144,\n",
       " 5147,\n",
       " 5154,\n",
       " 5167,\n",
       " 5187,\n",
       " 5192,\n",
       " 5194,\n",
       " 5196,\n",
       " 5202,\n",
       " 5203,\n",
       " 5228,\n",
       " 5244,\n",
       " 5246,\n",
       " 5249,\n",
       " 5266,\n",
       " 5268,\n",
       " 5272,\n",
       " 5275,\n",
       " 5285,\n",
       " 5286,\n",
       " 5288,\n",
       " 5298,\n",
       " 5317,\n",
       " 5319,\n",
       " 5321,\n",
       " 5327,\n",
       " 5330,\n",
       " 5340,\n",
       " 5342,\n",
       " 5344,\n",
       " 5353,\n",
       " 5368,\n",
       " 5373,\n",
       " 5393,\n",
       " 5398,\n",
       " 5461,\n",
       " 5462,\n",
       " 5464,\n",
       " 5468,\n",
       " 5469,\n",
       " 5470,\n",
       " 5475,\n",
       " 5487,\n",
       " 5488,\n",
       " 5498,\n",
       " 5502,\n",
       " 5505,\n",
       " 5512,\n",
       " 5514,\n",
       " 5525,\n",
       " 5541,\n",
       " 5560,\n",
       " 5563,\n",
       " 5583,\n",
       " 5585,\n",
       " 5604,\n",
       " 5608,\n",
       " 5612,\n",
       " 5615,\n",
       " 5622,\n",
       " 5627,\n",
       " 5641,\n",
       " 5646,\n",
       " 5662,\n",
       " 5665,\n",
       " 5674,\n",
       " 5690,\n",
       " 5692,\n",
       " 5694,\n",
       " 5697,\n",
       " 5698,\n",
       " 5711,\n",
       " 5729,\n",
       " 5730,\n",
       " 5747,\n",
       " 5767,\n",
       " 5773,\n",
       " 5801,\n",
       " 5808,\n",
       " 5809,\n",
       " 5830,\n",
       " 5844,\n",
       " 5881,\n",
       " 5883,\n",
       " 5884,\n",
       " 5886,\n",
       " 5888,\n",
       " 5905,\n",
       " 5921,\n",
       " 5927,\n",
       " 5929,\n",
       " 5932,\n",
       " 5938,\n",
       " 5961,\n",
       " 5978,\n",
       " 5981,\n",
       " 6001,\n",
       " 6008,\n",
       " 6023,\n",
       " 6034,\n",
       " 6045,\n",
       " 6065,\n",
       " 6076,\n",
       " 6094,\n",
       " 6097,\n",
       " 6103,\n",
       " 6113,\n",
       " 6117,\n",
       " 6133,\n",
       " 6137,\n",
       " 6146,\n",
       " 6179,\n",
       " 6207,\n",
       " 6227,\n",
       " 6228,\n",
       " 6245,\n",
       " 6279,\n",
       " 6292,\n",
       " 6296,\n",
       " 6302,\n",
       " 6316,\n",
       " 6320,\n",
       " 6325,\n",
       " 6326,\n",
       " 6330,\n",
       " 6331,\n",
       " 6332,\n",
       " 6337,\n",
       " 6341,\n",
       " 6357,\n",
       " 6367,\n",
       " 6394,\n",
       " 6400,\n",
       " 6406,\n",
       " 6409,\n",
       " 6421,\n",
       " 6422,\n",
       " 6441,\n",
       " 6444,\n",
       " 6446,\n",
       " 6461,\n",
       " 6468,\n",
       " 6496,\n",
       " 6502,\n",
       " 6538,\n",
       " 6591,\n",
       " 6593,\n",
       " 6603,\n",
       " 6607,\n",
       " 6611,\n",
       " 6614,\n",
       " 6615,\n",
       " 6619,\n",
       " 6629,\n",
       " 6630,\n",
       " 6645,\n",
       " 6648,\n",
       " 6663,\n",
       " 6676,\n",
       " 6681,\n",
       " 6684,\n",
       " 6700,\n",
       " 6704,\n",
       " 6708,\n",
       " 6723,\n",
       " 6730,\n",
       " 6737,\n",
       " 6738,\n",
       " 6757,\n",
       " 6758,\n",
       " 6763,\n",
       " 6768,\n",
       " 6791,\n",
       " 6802,\n",
       " 6819,\n",
       " 6823,\n",
       " 6832,\n",
       " 6847,\n",
       " 6857,\n",
       " 6875,\n",
       " 6883,\n",
       " 6917,\n",
       " 6923,\n",
       " 6928,\n",
       " 6935,\n",
       " 6958,\n",
       " 6960,\n",
       " 6967,\n",
       " 6968,\n",
       " 6970,\n",
       " 6972,\n",
       " 6973,\n",
       " 6979,\n",
       " 6987,\n",
       " 6991,\n",
       " 7003,\n",
       " 7004,\n",
       " 7012,\n",
       " 7018,\n",
       " 7025,\n",
       " 7037,\n",
       " 7038,\n",
       " 7050,\n",
       " 7052,\n",
       " 7055,\n",
       " 7062,\n",
       " 7066,\n",
       " 7127,\n",
       " 7128,\n",
       " 7129,\n",
       " 7130,\n",
       " 7135,\n",
       " 7143,\n",
       " 7158,\n",
       " 7164,\n",
       " 7181,\n",
       " 7183,\n",
       " 7203,\n",
       " 7219,\n",
       " 7243,\n",
       " 7247,\n",
       " 7254,\n",
       " 7267,\n",
       " 7271,\n",
       " 7272,\n",
       " 7281,\n",
       " 7286,\n",
       " 7305,\n",
       " 7318,\n",
       " 7325,\n",
       " 7338,\n",
       " 7355,\n",
       " 7358,\n",
       " 7364,\n",
       " 7371,\n",
       " 7372,\n",
       " 7373,\n",
       " 7378,\n",
       " 7391,\n",
       " 7409,\n",
       " 7427,\n",
       " 7451,\n",
       " 7458,\n",
       " 7462,\n",
       " 7465,\n",
       " 7466,\n",
       " 7471,\n",
       " 7485,\n",
       " 7499,\n",
       " 7506,\n",
       " 7515,\n",
       " 7548,\n",
       " 7552,\n",
       " 7557,\n",
       " 7566,\n",
       " 7585,\n",
       " 7589,\n",
       " 7597,\n",
       " 7629,\n",
       " 7648,\n",
       " 7649,\n",
       " 7664,\n",
       " 7669,\n",
       " 7685,\n",
       " 7687,\n",
       " 7691,\n",
       " 7707,\n",
       " 7708,\n",
       " 7709,\n",
       " 7710,\n",
       " 7728,\n",
       " 7753,\n",
       " 7786,\n",
       " 7807,\n",
       " 7813,\n",
       " 7816,\n",
       " 7830,\n",
       " 7835,\n",
       " 7846,\n",
       " 7855,\n",
       " 7858,\n",
       " 7874,\n",
       " 7875,\n",
       " 7882,\n",
       " 7892,\n",
       " 7894,\n",
       " 7905,\n",
       " 7911,\n",
       " 7925,\n",
       " 7930,\n",
       " 7932,\n",
       " 7934,\n",
       " 7944,\n",
       " 7948,\n",
       " 7954,\n",
       " 7969,\n",
       " 7978,\n",
       " 7981,\n",
       " 7985,\n",
       " 8000,\n",
       " 8003,\n",
       " 8016,\n",
       " 8019,\n",
       " 8021,\n",
       " 8028,\n",
       " 8046,\n",
       " 8050,\n",
       " 8088,\n",
       " 8089,\n",
       " 8093,\n",
       " 8096,\n",
       " 8098,\n",
       " 8108,\n",
       " 8110,\n",
       " 8113,\n",
       " 8116,\n",
       " 8129,\n",
       " 8134,\n",
       " 8147,\n",
       " 8157,\n",
       " 8158,\n",
       " 8159,\n",
       " 8172,\n",
       " 8187,\n",
       " 8193,\n",
       " 8223,\n",
       " 8233,\n",
       " 8247,\n",
       " 8249,\n",
       " 8250,\n",
       " 8253,\n",
       " 8262,\n",
       " 8272,\n",
       " 8273,\n",
       " 8274,\n",
       " 8284,\n",
       " 8288,\n",
       " 8289,\n",
       " 8294,\n",
       " 8304,\n",
       " 8309,\n",
       " 8323,\n",
       " 8335,\n",
       " 8343,\n",
       " 8349,\n",
       " 8354,\n",
       " 8355,\n",
       " 8368,\n",
       " 8369,\n",
       " 8385,\n",
       " 8387,\n",
       " 8449,\n",
       " 8469,\n",
       " 8472,\n",
       " 8489,\n",
       " 8509,\n",
       " 8515,\n",
       " 8527,\n",
       " 8531,\n",
       " 8533,\n",
       " 8540,\n",
       " 8545,\n",
       " 8612,\n",
       " 8653,\n",
       " 8681,\n",
       " 8682,\n",
       " 8687,\n",
       " 8703,\n",
       " 8723,\n",
       " 8724,\n",
       " 8739,\n",
       " 8754,\n",
       " 8763,\n",
       " 8788,\n",
       " 8809,\n",
       " 8812,\n",
       " 8813,\n",
       " 8838,\n",
       " 8855,\n",
       " 8863,\n",
       " 8877,\n",
       " 8885,\n",
       " 8894,\n",
       " 8896,\n",
       " 8897,\n",
       " 8901,\n",
       " 8912,\n",
       " 8917,\n",
       " 8926,\n",
       " 8932,\n",
       " 8935,\n",
       " 8961,\n",
       " 8969,\n",
       " 8979,\n",
       " 8982,\n",
       " 9003,\n",
       " 9005,\n",
       " 9018,\n",
       " 9027,\n",
       " 9032,\n",
       " 9034,\n",
       " 9035,\n",
       " 9038,\n",
       " 9047,\n",
       " 9048,\n",
       " 9055,\n",
       " 9056,\n",
       " 9067,\n",
       " 9083,\n",
       " 9101,\n",
       " 9131,\n",
       " 9142,\n",
       " 9151,\n",
       " 9158,\n",
       " 9166,\n",
       " 9194,\n",
       " 9195,\n",
       " 9196,\n",
       " 9197,\n",
       " 9204,\n",
       " 9209,\n",
       " 9215,\n",
       " 9222,\n",
       " 9257,\n",
       " 9269,\n",
       " 9287,\n",
       " 9296,\n",
       " 9297,\n",
       " 9310,\n",
       " 9313,\n",
       " 9322,\n",
       " 9329,\n",
       " 9342,\n",
       " 9402,\n",
       " 9406,\n",
       " 9422,\n",
       " 9435,\n",
       " 9439,\n",
       " 9440,\n",
       " 9441,\n",
       " 9451,\n",
       " 9452,\n",
       " 9455,\n",
       " 9456,\n",
       " 9458,\n",
       " 9459,\n",
       " 9463,\n",
       " 9473,\n",
       " 9476,\n",
       " 9478,\n",
       " 9485,\n",
       " 9505,\n",
       " 9506,\n",
       " 9523,\n",
       " 9524,\n",
       " 9530,\n",
       " 9544,\n",
       " 9552,\n",
       " 9666,\n",
       " 9671,\n",
       " 9675,\n",
       " 9677,\n",
       " 9687,\n",
       " 9688,\n",
       " 9691,\n",
       " 9695,\n",
       " 9698,\n",
       " 9699,\n",
       " 9703,\n",
       " 9707,\n",
       " 9710,\n",
       " 9717,\n",
       " 9720,\n",
       " 9733,\n",
       " 9742,\n",
       " 9744,\n",
       " 9750,\n",
       " 9753,\n",
       " 9773,\n",
       " 9790,\n",
       " 9806,\n",
       " 9820,\n",
       " 9822,\n",
       " 9823,\n",
       " 9834,\n",
       " 9840,\n",
       " 9857,\n",
       " 9865,\n",
       " 9869,\n",
       " 9874,\n",
       " 9877,\n",
       " 9881,\n",
       " 9890,\n",
       " 9914,\n",
       " 9922,\n",
       " 9934,\n",
       " 9963,\n",
       " 9965,\n",
       " 9966,\n",
       " 9971,\n",
       " 9978,\n",
       " 9983,\n",
       " 9985,\n",
       " 9986,\n",
       " ...]"
      ]
     },
     "execution_count": 12,
     "metadata": {},
     "output_type": "execute_result"
    }
   ],
   "source": [
    "y_train_0_idx = [idx for idx, val in enumerate(y_train) if val == 0]\n",
    "y_train_1_idx = [idx for idx, val in enumerate(y_train) if val == 1]\n",
    "y_train_0_idx+y_train_1_idx"
   ]
  },
  {
   "cell_type": "code",
   "execution_count": 13,
   "metadata": {},
   "outputs": [
    {
     "data": {
      "text/plain": [
       "array([0, 0, 0, ..., 1, 1, 1], dtype=uint8)"
      ]
     },
     "execution_count": 13,
     "metadata": {},
     "output_type": "execute_result"
    }
   ],
   "source": [
    "y_train[y_train_0_idx+y_train_1_idx]"
   ]
  },
  {
   "cell_type": "code",
   "execution_count": 14,
   "metadata": {},
   "outputs": [
    {
     "data": {
      "text/plain": [
       "[<keras.layers.convolutional.Conv2D at 0x23bbf5304e0>,\n",
       " <keras.layers.convolutional.Conv2D at 0x23bbf530b70>,\n",
       " <keras.layers.pooling.MaxPooling2D at 0x23bbf5598d0>,\n",
       " <keras.layers.core.Dropout at 0x23bbf530a90>,\n",
       " <keras.layers.convolutional.Conv2D at 0x23bbf598da0>,\n",
       " <keras.layers.convolutional.Conv2D at 0x23bbf559b38>,\n",
       " <keras.layers.pooling.MaxPooling2D at 0x23bbf5f9978>,\n",
       " <keras.layers.core.Dropout at 0x23bbf5afa90>,\n",
       " <keras.layers.core.Flatten at 0x23bbf62db70>,\n",
       " <keras.layers.core.Dense at 0x23bbf62d9b0>,\n",
       " <keras.layers.core.Dropout at 0x23bbf66fb00>,\n",
       " <keras.layers.core.Dense at 0x23bbf66fa58>,\n",
       " <keras.layers.core.Activation at 0x23bbf695dd8>]"
      ]
     },
     "execution_count": 14,
     "metadata": {},
     "output_type": "execute_result"
    }
   ],
   "source": [
    "model.layers"
   ]
  },
  {
   "cell_type": "code",
   "execution_count": 15,
   "metadata": {},
   "outputs": [
    {
     "data": {
      "text/plain": [
       "[<tf.Tensor 'conv2d_1/Relu:0' shape=(?, 28, 28, 32) dtype=float32>,\n",
       " <tf.Tensor 'conv2d_2/Relu:0' shape=(?, 28, 28, 32) dtype=float32>,\n",
       " <tf.Tensor 'max_pooling2d_1/MaxPool:0' shape=(?, 14, 14, 32) dtype=float32>,\n",
       " <tf.Tensor 'dropout_1/cond/Merge:0' shape=(?, 14, 14, 32) dtype=float32>,\n",
       " <tf.Tensor 'conv2d_3/Relu:0' shape=(?, 14, 14, 64) dtype=float32>,\n",
       " <tf.Tensor 'conv2d_4/Relu:0' shape=(?, 14, 14, 64) dtype=float32>,\n",
       " <tf.Tensor 'max_pooling2d_2/MaxPool:0' shape=(?, 7, 7, 64) dtype=float32>,\n",
       " <tf.Tensor 'dropout_2/cond/Merge:0' shape=(?, 7, 7, 64) dtype=float32>,\n",
       " <tf.Tensor 'flatten_1/Reshape:0' shape=(?, ?) dtype=float32>,\n",
       " <tf.Tensor 'dense_1/Relu:0' shape=(?, 256) dtype=float32>,\n",
       " <tf.Tensor 'dropout_3/cond/Merge:0' shape=(?, 256) dtype=float32>,\n",
       " <tf.Tensor 'dense_2/BiasAdd:0' shape=(?, 10) dtype=float32>,\n",
       " <tf.Tensor 'activation_1/Softmax:0' shape=(?, 10) dtype=float32>]"
      ]
     },
     "execution_count": 15,
     "metadata": {},
     "output_type": "execute_result"
    }
   ],
   "source": [
    "# layer의 output으로만 이루어진 list를 만들어 봅시다.\n",
    "layer_outputs = [layer.output for layer in model.layers]\n",
    "layer_outputs"
   ]
  },
  {
   "cell_type": "code",
   "execution_count": 16,
   "metadata": {},
   "outputs": [
    {
     "data": {
      "text/plain": [
       "[<tf.Tensor 'conv2d_1_input:0' shape=(?, 28, 28, 1) dtype=float32>,\n",
       " <tf.Tensor 'conv2d_1/Relu:0' shape=(?, 28, 28, 32) dtype=float32>,\n",
       " <tf.Tensor 'conv2d_2/Relu:0' shape=(?, 28, 28, 32) dtype=float32>,\n",
       " <tf.Tensor 'max_pooling2d_1/MaxPool:0' shape=(?, 14, 14, 32) dtype=float32>,\n",
       " <tf.Tensor 'dropout_1/cond/Merge:0' shape=(?, 14, 14, 32) dtype=float32>,\n",
       " <tf.Tensor 'conv2d_3/Relu:0' shape=(?, 14, 14, 64) dtype=float32>,\n",
       " <tf.Tensor 'conv2d_4/Relu:0' shape=(?, 14, 14, 64) dtype=float32>,\n",
       " <tf.Tensor 'max_pooling2d_2/MaxPool:0' shape=(?, 7, 7, 64) dtype=float32>,\n",
       " <tf.Tensor 'dropout_2/cond/Merge:0' shape=(?, 7, 7, 64) dtype=float32>,\n",
       " <tf.Tensor 'flatten_1/Reshape:0' shape=(?, ?) dtype=float32>,\n",
       " <tf.Tensor 'dense_1/Relu:0' shape=(?, 256) dtype=float32>,\n",
       " <tf.Tensor 'dropout_3/cond/Merge:0' shape=(?, 256) dtype=float32>,\n",
       " <tf.Tensor 'dense_2/BiasAdd:0' shape=(?, 10) dtype=float32>]"
      ]
     },
     "execution_count": 16,
     "metadata": {},
     "output_type": "execute_result"
    }
   ],
   "source": [
    "layer_inputs = [layer.input for layer in model.layers]\n",
    "layer_inputs"
   ]
  },
  {
   "cell_type": "code",
   "execution_count": 17,
   "metadata": {},
   "outputs": [],
   "source": [
    "# 입력에 대해 CNN의 각 레이어의 output을 전부 반환하는 모델을 만듭니다:\n",
    "activation_model = models.Model(inputs=model.input, outputs=layer_outputs)"
   ]
  },
  {
   "cell_type": "code",
   "execution_count": 18,
   "metadata": {},
   "outputs": [],
   "source": [
    "# 층의 활성화마다 하나씩 8개의 넘파이 배열로 이루어진 리스트를 반환합니다:\n",
    "activations  = activation_model.predict(x_test_input)"
   ]
  },
  {
   "cell_type": "code",
   "execution_count": 19,
   "metadata": {},
   "outputs": [
    {
     "data": {
      "text/plain": [
       "13"
      ]
     },
     "execution_count": 19,
     "metadata": {},
     "output_type": "execute_result"
    }
   ],
   "source": [
    "len(activations)"
   ]
  },
  {
   "cell_type": "code",
   "execution_count": 20,
   "metadata": {},
   "outputs": [
    {
     "data": {
      "text/plain": [
       "(2, 28, 28, 32)"
      ]
     },
     "execution_count": 20,
     "metadata": {},
     "output_type": "execute_result"
    }
   ],
   "source": [
    "activations[0].shape"
   ]
  },
  {
   "cell_type": "code",
   "execution_count": 21,
   "metadata": {},
   "outputs": [
    {
     "data": {
      "image/png": "[encoded data removed]",
      "text/plain": [
       "<Figure size 288x288 with 1 Axes>"
      ]
     },
     "metadata": {
      "needs_background": "light"
     },
     "output_type": "display_data"
    }
   ],
   "source": [
    "# 0 이미지에 대한 1번째 conv 레이어가 출력한 32번째 feature map을 출력해 봅시다.\n",
    "plt.matshow(activations[0][0, :, :, 31], cmap='viridis')\n",
    "plt.show()"
   ]
  },
  {
   "cell_type": "code",
   "execution_count": 22,
   "metadata": {},
   "outputs": [
    {
     "data": {
      "image/png": "[encoded data removed]",
      "text/plain": [
       "<Figure size 288x288 with 1 Axes>"
      ]
     },
     "metadata": {
      "needs_background": "light"
     },
     "output_type": "display_data"
    }
   ],
   "source": [
    "# 1 이미지에 대한 1번째 conv 레이어가 출력한 32번째 feature map을 출력해 봅시다.\n",
    "plt.matshow(activations[0][1, :, :, 31], cmap='viridis')\n",
    "plt.show()"
   ]
  },
  {
   "cell_type": "code",
   "execution_count": 23,
   "metadata": {},
   "outputs": [],
   "source": [
    "def draw_activation_grid(layer_activation, layer_name, images_per_row = 16):\n",
    "    # 특성 맵에 있는 특성의 수\n",
    "    n_features = layer_activation.shape[-1]\n",
    "\n",
    "    # 특성 맵의 크기는 (1, size, size, n_features)입니다\n",
    "    size = layer_activation.shape[1]\n",
    "\n",
    "    # 활성화 채널을 위한 그리드 크기를 구합니다\n",
    "    n_cols = n_features // images_per_row\n",
    "    display_grid = np.zeros((size * n_cols, images_per_row * size))\n",
    "\n",
    "    # 각 활성화를 하나의 큰 그리드에 채웁니다\n",
    "    for col in range(n_cols):\n",
    "        for row in range(images_per_row):\n",
    "            channel_image = layer_activation[\n",
    "                                             :, :,\n",
    "                                             col * images_per_row + row]\n",
    "            # 그래프로 나타내기 좋게 특성을 처리합니다\n",
    "            channel_image -= channel_image.mean()\n",
    "            channel_image /= channel_image.std()\n",
    "            channel_image *= 64\n",
    "            channel_image += 128\n",
    "            channel_image = np.clip(channel_image, 0, 255).astype('uint8')\n",
    "            display_grid[col * size : (col + 1) * size,\n",
    "                         row * size : (row + 1) * size] = channel_image\n",
    "\n",
    "    # 그리드를 출력합니다\n",
    "    scale = 1. / size\n",
    "    plt.figure(figsize=(scale * display_grid.shape[1],\n",
    "                        scale * display_grid.shape[0]))\n",
    "    plt.title(layer_name)\n",
    "    plt.grid(False)\n",
    "    plt.imshow(display_grid, aspect='auto', cmap='viridis')"
   ]
  },
  {
   "cell_type": "code",
   "execution_count": 24,
   "metadata": {},
   "outputs": [
    {
     "data": {
      "text/plain": [
       "(56, 448)"
      ]
     },
     "execution_count": 24,
     "metadata": {},
     "output_type": "execute_result"
    }
   ],
   "source": [
    "layer_activation = activations[0][0]\n",
    "n_features = layer_activation.shape[-1]\n",
    "n_features\n",
    "size = layer_activation.shape[1]\n",
    "size\n",
    "n_cols = n_features // 16\n",
    "n_cols\n",
    "display_grid = np.zeros((size * n_cols, 16 * size))\n",
    "display_grid.shape"
   ]
  },
  {
   "cell_type": "code",
   "execution_count": 25,
   "metadata": {},
   "outputs": [
    {
     "data": {
      "image/png": "[encoded data removed]",
      "text/plain": [
       "<Figure size 1152x144 with 1 Axes>"
      ]
     },
     "metadata": {
      "needs_background": "light"
     },
     "output_type": "display_data"
    }
   ],
   "source": [
    "draw_activation_grid(activations[1][0], layer_name='Conv2D_layer1_NUMBER:0')"
   ]
  },
  {
   "cell_type": "code",
   "execution_count": 26,
   "metadata": {},
   "outputs": [
    {
     "name": "stderr",
     "output_type": "stream",
     "text": [
      "C:\\Users\\uhmpp\\Anaconda3\\envs\\py36\\lib\\site-packages\\ipykernel_launcher.py:20: RuntimeWarning: invalid value encountered in true_divide\n"
     ]
    },
    {
     "data": {
      "image/png": "[encoded data removed]",
      "text/plain": [
       "<Figure size 1152x144 with 1 Axes>"
      ]
     },
     "metadata": {
      "needs_background": "light"
     },
     "output_type": "display_data"
    }
   ],
   "source": [
    "draw_activation_grid(activations[1][1], layer_name='Conv2D_layer1_NUMBER:1')"
   ]
  },
  {
   "cell_type": "code",
   "execution_count": 27,
   "metadata": {},
   "outputs": [
    {
     "data": {
      "image/png": "[encoded data removed]",
      "text/plain": [
       "<Figure size 1152x288 with 1 Axes>"
      ]
     },
     "metadata": {
      "needs_background": "light"
     },
     "output_type": "display_data"
    }
   ],
   "source": [
    "draw_activation_grid(activations[4][0], layer_name='Conv2D_layer3_NUMBER:0')"
   ]
  },
  {
   "cell_type": "code",
   "execution_count": 28,
   "metadata": {},
   "outputs": [
    {
     "data": {
      "image/png": "[encoded data removed]",
      "text/plain": [
       "<Figure size 1152x288 with 1 Axes>"
      ]
     },
     "metadata": {
      "needs_background": "light"
     },
     "output_type": "display_data"
    }
   ],
   "source": [
    "draw_activation_grid(activations[4][1], layer_name='Conv2D_layer3_NUMBER:0')"
   ]
  },
  {
   "cell_type": "code",
   "execution_count": 29,
   "metadata": {},
   "outputs": [
    {
     "name": "stderr",
     "output_type": "stream",
     "text": [
      "C:\\Users\\uhmpp\\Anaconda3\\envs\\py36\\lib\\site-packages\\ipykernel_launcher.py:20: RuntimeWarning: invalid value encountered in true_divide\n"
     ]
    },
    {
     "data": {
      "image/png": "[encoded data removed]",
      "text/plain": [
       "<Figure size 1152x288 with 1 Axes>"
      ]
     },
     "metadata": {
      "needs_background": "light"
     },
     "output_type": "display_data"
    }
   ],
   "source": [
    "draw_activation_grid(activations[7][0], layer_name='Conv2D_layer3_NUMBER:0')"
   ]
  },
  {
   "cell_type": "code",
   "execution_count": 30,
   "metadata": {},
   "outputs": [
    {
     "name": "stderr",
     "output_type": "stream",
     "text": [
      "C:\\Users\\uhmpp\\Anaconda3\\envs\\py36\\lib\\site-packages\\ipykernel_launcher.py:20: RuntimeWarning: invalid value encountered in true_divide\n"
     ]
    },
    {
     "data": {
      "image/png": "[encoded data removed]",
      "text/plain": [
       "<Figure size 1152x288 with 1 Axes>"
      ]
     },
     "metadata": {
      "needs_background": "light"
     },
     "output_type": "display_data"
    }
   ],
   "source": [
    "draw_activation_grid(activations[7][1], layer_name='Conv2D_layer3_NUMBER:0')"
   ]
  },
  {
   "cell_type": "code",
   "execution_count": 31,
   "metadata": {},
   "outputs": [
    {
     "data": {
      "text/plain": [
       "<matplotlib.image.AxesImage at 0x23d63167fd0>"
      ]
     },
     "execution_count": 31,
     "metadata": {},
     "output_type": "execute_result"
    },
    {
     "data": {
      "image/png": "[encoded data removed]",
      "text/plain": [
       "<Figure size 1152x230.4 with 1 Axes>"
      ]
     },
     "metadata": {
      "needs_background": "light"
     },
     "output_type": "display_data"
    }
   ],
   "source": [
    "# softmax에 input으로 주어지는 logit vector\n",
    "plt.matshow(activations[11], cmap='viridis')"
   ]
  },
  {
   "cell_type": "code",
   "execution_count": 33,
   "metadata": {},
   "outputs": [
    {
     "data": {
      "text/plain": [
       "<matplotlib.image.AxesImage at 0x23d63226128>"
      ]
     },
     "execution_count": 33,
     "metadata": {},
     "output_type": "execute_result"
    },
    {
     "data": {
      "image/png": "[encoded data removed]",
      "text/plain": [
       "<Figure size 1152x230.4 with 1 Axes>"
      ]
     },
     "metadata": {
      "needs_background": "light"
     },
     "output_type": "display_data"
    }
   ],
   "source": [
    "# softmax의 output\n",
    "plt.matshow(activations[12], cmap='viridis')"
   ]
  },
  {
   "cell_type": "code",
   "execution_count": null,
   "metadata": {},
   "outputs": [],
   "source": [
    "# softmax의 output\n",
    "plt.matshow(activations[12], cmap='viridis')"
   ]
  },
  {
   "cell_type": "code",
   "execution_count": null,
   "metadata": {},
   "outputs": [],
   "source": []
  },
  {
   "cell_type": "code",
   "execution_count": null,
   "metadata": {},
   "outputs": [],
   "source": []
  },
  {
   "cell_type": "code",
   "execution_count": null,
   "metadata": {},
   "outputs": [],
   "source": []
  }
 ],
 "metadata": {
  "kernelspec": {
   "display_name": "py36",
   "language": "python",
   "name": "py36"
  },
  "language_info": {
   "codemirror_mode": {
    "name": "ipython",
    "version": 3
   },
   "file_extension": ".py",
   "mimetype": "text/x-python",
   "name": "python",
   "nbconvert_exporter": "python",
   "pygments_lexer": "ipython3",
   "version": "3.6.8"
  }
 },
 "nbformat": 4,
 "nbformat_minor": 2
}
